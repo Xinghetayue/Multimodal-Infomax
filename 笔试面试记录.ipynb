{
  "nbformat": 4,
  "nbformat_minor": 0,
  "metadata": {
    "colab": {
      "provenance": [],
      "toc_visible": true,
      "authorship_tag": "ABX9TyMtuNkijenaAyiCqTOQg5tP",
      "include_colab_link": true
    },
    "kernelspec": {
      "name": "python3",
      "display_name": "Python 3"
    },
    "language_info": {
      "name": "python"
    }
  },
  "cells": [
    {
      "cell_type": "markdown",
      "metadata": {
        "id": "view-in-github",
        "colab_type": "text"
      },
      "source": [
        "<a href=\"https://colab.research.google.com/github/Xinghetayue/Multimodal-Infomax/blob/main/%E7%AC%94%E8%AF%95%E9%9D%A2%E8%AF%95%E8%AE%B0%E5%BD%95.ipynb\" target=\"_parent\"><img src=\"https://colab.research.google.com/assets/colab-badge.svg\" alt=\"Open In Colab\"/></a>"
      ]
    },
    {
      "cell_type": "code",
      "execution_count": null,
      "metadata": {
        "id": "IVUvRua3nHM_"
      },
      "outputs": [],
      "source": []
    },
    {
      "cell_type": "markdown",
      "source": [
        "#笔试面试笔记"
      ],
      "metadata": {
        "id": "mFAb60GJyG0e"
      }
    },
    {
      "cell_type": "markdown",
      "source": [
        "# ***4.27*** 美团测开笔试\n",
        "\n",
        "http2和http3\n",
        "\n",
        "slr分析方法\n",
        "\n",
        "er模式 链接陷阱\n",
        "\n",
        "最大堆最小堆\n",
        "\n",
        "插入排序\n",
        "\n",
        "开发模式：创建型模式、抽象工厂\n",
        "\n",
        "Stringbuilder是哪种模式\n",
        "\n",
        "词法分析\n",
        "\n",
        "操作系统中的v操作\n",
        "\n",
        "后缀表达式\n"
      ],
      "metadata": {
        "id": "4BClAMOAsvt2"
      }
    },
    {
      "cell_type": "markdown",
      "source": [
        "# ***6.13*** 美团测开一面 45‘\n",
        "编程题求最大不重复字符串\n",
        "\n",
        "sql题\n",
        "\n",
        "Tcp udp 区别  为什么安全 流量控制 有无 如何\n",
        "\n",
        "redis介绍，底层原理 why\n",
        "\n",
        "研究方向内容\n",
        "\n",
        "测开岗看法，why\n",
        "\n",
        "实习的目的，期望\n",
        "\n",
        "接口测试自动化测试"
      ],
      "metadata": {
        "id": "K0nG0WDVhNKl"
      }
    },
    {
      "cell_type": "markdown",
      "source": [
        "# ***5.22*** 荣耀测开一面\n",
        "测试基础知识\n",
        "\n",
        "\n",
        "1.   如何看待测试\n",
        "2.   黑白盒优点缺点\n",
        "3.   黑盒方法\n",
        "4. 测试流程\n",
        "5.接口测试流程\n",
        "6.开发流程\n",
        "\n",
        "\n",
        "\n",
        "\n",
        "项目 数据流\n",
        "\n",
        "linux sql常用命令\n",
        "\n",
        "tcp/udp\n",
        "\n",
        "笔试代码如何优化\n",
        "\n",
        "\n",
        "\n",
        "京东淘宝五个最大的不同"
      ],
      "metadata": {
        "id": "3eAUxQ8hyntm"
      }
    }
  ]
}